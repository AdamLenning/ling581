{
 "cells": [
  {
   "cell_type": "markdown",
   "source": [
    "# 3.8"
   ],
   "metadata": {}
  },
  {
   "cell_type": "code",
   "execution_count": 24,
   "source": [
    "import collections \n",
    "\n",
    "def ngram(vocab:str, ngram:int):\n",
    "    \"\"\"[summary]\n",
    "\n",
    "    Args:\n",
    "        vocab (str): [description]\n",
    "        ngram (int): [description]\n",
    "\n",
    "    Returns:\n",
    "        [type]: [description]\n",
    "    \"\"\"\n",
    "\n",
    "    words = vocab.split(sep=\" \")\n",
    "    ngrams = list()\n",
    "    for i in range(len(words) - ngram + 1):\n",
    "        ngrams.append(tuple(words[i:i+ngram]))\n",
    "    return ngrams\n",
    "\n",
    "\n",
    "def get_ngrams(sents:list, n:int):\n",
    "    \"\"\"[summary]\n",
    "\n",
    "    Args:\n",
    "        sents (list): [description]\n",
    "        n (int): [description]\n",
    "\n",
    "    Returns:\n",
    "        [type]: [description]\n",
    "    \"\"\"\n",
    "    all_ngrams = list()\n",
    "    for sent in sents:\n",
    "        all_ngrams.append(ngram(sent, n))\n",
    "    return all_ngrams\n",
    "\n",
    "\n",
    "def get_counts(list_sent:list):\n",
    "    \"\"\"[summary]\n",
    "\n",
    "    Args:\n",
    "        list_sent (list): [description]\n",
    "\n",
    "    Returns:\n",
    "        [type]: [description]\n",
    "    \"\"\"\n",
    "    out = collections.defaultdict(int)\n",
    "    for elem in list_sent:\n",
    "        for i in range(len(elem)):\n",
    "            out[elem[i]] += 1\n",
    "    return out\n",
    "\n",
    "print(get_counts(get_ngrams([\"a b c d a b s\", \"a d b a b\"], 2)))\n",
    "\n"
   ],
   "outputs": [
    {
     "output_type": "stream",
     "name": "stdout",
     "text": [
      "defaultdict(<class 'int'>, {('a', 'b'): 3, ('b', 'c'): 1, ('c', 'd'): 1, ('d', 'a'): 1, ('b', 's'): 1, ('a', 'd'): 1, ('d', 'b'): 1, ('b', 'a'): 1})\n"
     ]
    }
   ],
   "metadata": {}
  }
 ],
 "metadata": {
  "orig_nbformat": 4,
  "language_info": {
   "name": "python",
   "version": "3.9.1",
   "mimetype": "text/x-python",
   "codemirror_mode": {
    "name": "ipython",
    "version": 3
   },
   "pygments_lexer": "ipython3",
   "nbconvert_exporter": "python",
   "file_extension": ".py"
  },
  "kernelspec": {
   "name": "python3",
   "display_name": "Python 3.9.1 64-bit ('venv': venv)"
  },
  "interpreter": {
   "hash": "2c3deb8cd993c689b061872ff910ef58aea191cabc6baada44a3fe0a4ea922df"
  }
 },
 "nbformat": 4,
 "nbformat_minor": 2
}