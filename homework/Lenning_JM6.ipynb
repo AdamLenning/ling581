{
 "cells": [
  {
   "cell_type": "markdown",
   "source": [
    "# Homework 6\n",
    "\n",
    "## 1"
   ],
   "metadata": {}
  },
  {
   "cell_type": "code",
   "execution_count": 1,
   "source": [
    "## Import fasttext and train on cooking data\n",
    "\n",
    "## cooking data comes from fasttext tutorial\n",
    "\n",
    "import fasttext\n",
    "\n",
    "model = fasttext.train_supervised(input=\"../data/cooking.train\")\n"
   ],
   "outputs": [
    {
     "output_type": "stream",
     "name": "stderr",
     "text": [
      "Read 0M words\n",
      "Number of words:  8952\n",
      "Number of labels: 735\n",
      "Progress: 100.0% words/sec/thread:   38998 lr:  0.000000 avg.loss: 10.102436 ETA:   0h 0m 0s\n"
     ]
    }
   ],
   "metadata": {}
  },
  {
   "cell_type": "code",
   "execution_count": 12,
   "source": [
    "## Predict some sentences\n",
    "print(model.predict(\"Which baking dish is best to bake a banana bread ?\"))\n",
    "print(model.predict(\"Why not put knives in the dishwasher?\"))"
   ],
   "outputs": [
    {
     "output_type": "stream",
     "name": "stdout",
     "text": [
      "(('__label__bread',), array([0.18973885]))\n",
      "(('__label__food-safety',), array([0.09966777]))\n"
     ]
    }
   ],
   "metadata": {}
  },
  {
   "cell_type": "code",
   "execution_count": 13,
   "source": [
    "## Test model\n",
    "\n",
    "model.test(\"../data/cooking.valid\", k=5)"
   ],
   "outputs": [
    {
     "output_type": "execute_result",
     "data": {
      "text/plain": [
       "(3000, 0.07186666666666666, 0.15539858728557013)"
      ]
     },
     "metadata": {},
     "execution_count": 13
    }
   ],
   "metadata": {}
  },
  {
   "cell_type": "markdown",
   "source": [
    "## 2"
   ],
   "metadata": {}
  },
  {
   "cell_type": "code",
   "execution_count": 2,
   "source": [
    "## sklearn has a cosine_similarity that is easier to get working than gensim in my opinion\n",
    "\n",
    "from sklearn.metrics.pairwise import cosine_similarity\n",
    "\n",
    "## save word vectors as variables\n",
    "asparagus = model.get_word_vector('asparagus')\n",
    "artichoke = model.get_word_vector('artichoke')\n",
    "spatula = model.get_word_vector('spatula')\n",
    "baking = model.get_word_vector('baking')\n",
    "cooking = model.get_word_vector('cooking')\n",
    "\n",
    "\n",
    "# print comparisons of words\n",
    "print(\"asparagus/artichoke distance:\", cosine_similarity([asparagus], [artichoke]))\n",
    "print(\"asparagus/spatula distance:\", cosine_similarity([asparagus], [spatula]))\n",
    "print(\"artichoke/baking distance:\", cosine_similarity([artichoke], [baking]))\n",
    "print(\"baking/cooking distance:\", cosine_similarity([baking], [cooking]))\n",
    "\n",
    "# get neareset neighbors for asparagus\n",
    "print(\"asparagus nearest neighbors:\", model.get_nearest_neighbors('asparagus'))\n",
    "\n"
   ],
   "outputs": [
    {
     "output_type": "stream",
     "name": "stdout",
     "text": [
      "asparagus/artichoke distance: [[0.840017]]\n",
      "asparagus/spatula distance: [[-0.9030838]]\n",
      "artichoke/baking distance: [[-0.7992521]]\n",
      "baking/cooking distance: [[0.27018118]]\n",
      "asparagus nearest neighbors: [(0.9730944037437439, '\"not'), (0.9730944037437439, 'content\"'), (0.9727799892425537, 'numb'), (0.9727799892425537, 'rigid'), (0.972541868686676, 'marker'), (0.972541868686676, 'writing'), (0.9725049734115601, 'lunchboxes'), (0.9724976420402527, 'unwise'), (0.9721789360046387, 'sourcing'), (0.9721311330795288, '1-2')]\n"
     ]
    }
   ],
   "metadata": {}
  },
  {
   "cell_type": "markdown",
   "source": [
    "## 3 Fasttext trained on the complete works of Jane Austen\n",
    "\n",
    "data found at: https://www.gutenberg.org/ebooks/31100\n",
    "\n",
    "Cleaned punctuation with:\n",
    "cat data/31100/31100.txt | tr -d '[:punct:]' > data/31100/jane_cleanted.txt\n",
    "\n",
    "Converted to lower with:\n",
    "dd if=data/31100/jane_cleanted.txt of=data/31100/jane_lower_nopunc.txt conv=lcase\n",
    "\n",
    "Ultimately more work needs to be done in the preprocessing stage as lemmatization could be useful. There are still many plural forms of nouns and alternate forms of words."
   ],
   "metadata": {}
  },
  {
   "cell_type": "code",
   "execution_count": 3,
   "source": [
    "## trains fasttext on complete works of jane austen\n",
    "model = fasttext.train_unsupervised(input=\"../data/31100/jane_lower_nopunc.txt\")\n",
    "\n",
    "## print out first 10 words of model\n",
    "print(model.words[:10])\n"
   ],
   "outputs": [
    {
     "output_type": "stream",
     "name": "stderr",
     "text": [
      "Read 0M words\n",
      "Number of words:  6301\n",
      "Number of labels: 0\n",
      "Progress:  97.7% words/sec/thread:   82110 lr:  0.001165 avg.loss:  2.525718 ETA:   0h 0m 0s"
     ]
    },
    {
     "output_type": "stream",
     "name": "stdout",
     "text": [
      "['</s>', 'the', 'to', 'and', 'of', 'a', 'her', 'i', 'in', 'was']\n"
     ]
    },
    {
     "output_type": "stream",
     "name": "stderr",
     "text": [
      "Progress: 100.0% words/sec/thread:   81814 lr:  0.000000 avg.loss:  2.525043 ETA:   0h 0m 0s\n"
     ]
    }
   ],
   "metadata": {}
  },
  {
   "cell_type": "code",
   "execution_count": 6,
   "source": [
    "## create new word vectors for words\n",
    "home = model.get_word_vector('home')\n",
    "estate = model.get_word_vector('estate')\n",
    "\n",
    "marriage = model.get_word_vector('marriage')\n",
    "happy = model.get_word_vector('happy')\n",
    "\n",
    "widow = model.get_word_vector('widow')\n",
    "wife = model.get_word_vector('wife')\n",
    "\n",
    "sister = model.get_word_vector('sister')\n",
    "family = model.get_word_vector('family')\n",
    "\n",
    "soldier = model.get_word_vector('soldier')\n",
    "gentleman = model.get_word_vector('gentleman')"
   ],
   "outputs": [],
   "metadata": {}
  },
  {
   "cell_type": "code",
   "execution_count": 7,
   "source": [
    "## calculate distance between two words\n",
    "print(\"home/estate distance:\", cosine_similarity([home], [estate]))\n",
    "print(\"marriage/happy distance:\", cosine_similarity([marriage], [happy]))\n",
    "print(\"widow/wife distance:\", cosine_similarity([widow], [wife]))\n",
    "print(\"sister/family distance:\", cosine_similarity([sister], [family]))\n",
    "print(\"soldier/gentleman distance:\", cosine_similarity([soldier], [gentleman]))"
   ],
   "outputs": [
    {
     "output_type": "stream",
     "name": "stdout",
     "text": [
      "home/estate distance: [[0.4665011]]\n",
      "marriage/happy distance: [[0.5074713]]\n",
      "widow/wife distance: [[0.7397411]]\n",
      "sister/family distance: [[0.61101896]]\n",
      "soldier/gentleman distance: [[0.6130134]]\n"
     ]
    }
   ],
   "metadata": {}
  },
  {
   "cell_type": "code",
   "execution_count": 8,
   "source": [
    "## find nearest neighbors to marriage\n",
    "print(\"marriage nearest neighbors:\", model.get_nearest_neighbors('marriage'))"
   ],
   "outputs": [
    {
     "output_type": "stream",
     "name": "stdout",
     "text": [
      "marriage nearest neighbors: [(0.9512580037117004, 'marriages'), (0.8714825510978699, 'marries'), (0.8643030524253845, 'engage'), (0.8358723521232605, 'privy'), (0.8283993005752563, 'print'), (0.8088814616203308, 'engagements'), (0.808385968208313, 'engagement'), (0.8081031441688538, 'proposals'), (0.8053321242332458, 'prince'), (0.7986483573913574, 'private')]\n"
     ]
    }
   ],
   "metadata": {}
  },
  {
   "cell_type": "code",
   "execution_count": 9,
   "source": [
    "## finish analogy\n",
    "print(\"life is to death, as wife is to {}\".format(model.get_analogies(\"life\", \"death\", \"wife\")))"
   ],
   "outputs": [
    {
     "output_type": "stream",
     "name": "stdout",
     "text": [
      "life is to death, as wife is to [(0.7725088000297546, 'characters'), (0.7666225433349609, 'character'), (0.7656016945838928, 'clergyman'), (0.7620837688446045, 'fortune'), (0.7597810626029968, 'choice'), (0.7571743726730347, 'english'), (0.7560659646987915, 'misfortune'), (0.7508577108383179, 'family'), (0.7470495104789734, 'womans'), (0.7445710301399231, 'wifes')]\n"
     ]
    }
   ],
   "metadata": {}
  }
 ],
 "metadata": {
  "orig_nbformat": 4,
  "language_info": {
   "name": "python",
   "version": "3.9.1",
   "mimetype": "text/x-python",
   "codemirror_mode": {
    "name": "ipython",
    "version": 3
   },
   "pygments_lexer": "ipython3",
   "nbconvert_exporter": "python",
   "file_extension": ".py"
  },
  "kernelspec": {
   "name": "python3",
   "display_name": "Python 3.9.1 64-bit ('venv': venv)"
  },
  "interpreter": {
   "hash": "2c3deb8cd993c689b061872ff910ef58aea191cabc6baada44a3fe0a4ea922df"
  }
 },
 "nbformat": 4,
 "nbformat_minor": 2
}